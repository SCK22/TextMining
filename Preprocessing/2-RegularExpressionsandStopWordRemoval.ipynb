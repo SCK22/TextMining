{
 "cells": [
  {
   "cell_type": "markdown",
   "metadata": {},
   "source": [
    "# _Regular-Expressions_ \n",
    "\n",
    "A RegexpTokenizer splits a string into substrings using a regular expression. For example, the following tokenizer forms tokens out of alphabetic sequences, money expressions\n",
    "\n",
    "http://www.nltk.org/api/nltk.tokenize.html#module-nltk.tokenize \n",
    "\n",
    "http://www.nltk.org/howto/tokenize.html"
   ]
  },
  {
   "cell_type": "markdown",
   "metadata": {
    "toc": true
   },
   "source": [
    "<h1>Table of Contents<span class=\"tocSkip\"></span></h1>\n",
    "<div class=\"toc\"><ul class=\"toc-item\"><li><span><a href=\"#Regular-expressions\" data-toc-modified-id=\"Regular-expressions-1\"><span class=\"toc-item-num\">1&nbsp;&nbsp;</span>Regular expressions</a></span></li><li><span><a href=\"#NLTK-Regexp-tokenizer\" data-toc-modified-id=\"NLTK-Regexp-tokenizer-2\"><span class=\"toc-item-num\">2&nbsp;&nbsp;</span>NLTK Regexp tokenizer</a></span></li><li><span><a href=\"#Tokenizing\" data-toc-modified-id=\"Tokenizing-3\"><span class=\"toc-item-num\">3&nbsp;&nbsp;</span>Tokenizing</a></span></li><li><span><a href=\"#Converting-to-lower-case\" data-toc-modified-id=\"Converting-to-lower-case-4\"><span class=\"toc-item-num\">4&nbsp;&nbsp;</span>Converting to lower case</a></span></li><li><span><a href=\"#Plotting-the-frequency-bar-chart\" data-toc-modified-id=\"Plotting-the-frequency-bar-chart-5\"><span class=\"toc-item-num\">5&nbsp;&nbsp;</span>Plotting the frequency bar chart</a></span></li><li><span><a href=\"#Removing-stopwords\" data-toc-modified-id=\"Removing-stopwords-6\"><span class=\"toc-item-num\">6&nbsp;&nbsp;</span>Removing stopwords</a></span></li></ul></div>"
   ]
  },
  {
   "cell_type": "code",
   "execution_count": 1,
   "metadata": {},
   "outputs": [],
   "source": [
    "import re"
   ]
  },
  {
   "cell_type": "code",
   "execution_count": 2,
   "metadata": {},
   "outputs": [],
   "source": [
    "with open('data/Audi.txt') as f:\n",
    "    Audi = f.readlines()"
   ]
  },
  {
   "cell_type": "code",
   "execution_count": 3,
   "metadata": {},
   "outputs": [
    {
     "data": {
      "text/plain": [
       "['Audi AG is a German automobile manufacturer that designs, engineers, produces, markets and distributes luxury vehicles. Audi is a member of the Volkswagen Group and has its roots at Ingolstadt, Bavaria, Germany. Audi-branded vehicles are produced in nine production facilities worldwide. The origins of the company are complex, going back to the early 20th century and the initial enterprises (Horch and the Audiwerke) founded by engineer August Horch; and two other manufacturers (DKW and Wanderer), leading to the foundation of Auto Union in 1932. The modern era of Audi essentially began in the 1960s when Auto Union was acquired by Volkswagen from Daimler-Benz. After relaunching the Audi brand with the 1965 introduction of the Audi F103 series, Volkswagen merged Auto Union with NSU Motorenwerke in 1969, thus creating the present day form of the company. The company name is based on the Latin translation of the surname of the founder, August Horch. \"Horch\", meaning \"listen\" in German, becomes \"audi\" in Latin. The four rings of the Audi logo each represent one of four car companies that banded together to create Audi\\'s predecessor company, Auto Union. Audi\\'s slogan is Vorsprung durch Technik, meaning \"Being Ahead through Technology\". However, Audi USA had used the slogan \"Truth in Engineering\" from 2007 to 2016, and have not used the slogan since 2016.\\n']"
      ]
     },
     "execution_count": 3,
     "metadata": {},
     "output_type": "execute_result"
    }
   ],
   "source": [
    "Audi"
   ]
  },
  {
   "cell_type": "markdown",
   "metadata": {},
   "source": [
    "## Regular expressions"
   ]
  },
  {
   "cell_type": "code",
   "execution_count": 4,
   "metadata": {},
   "outputs": [
    {
     "name": "stdout",
     "output_type": "stream",
     "text": [
      "['A', 'u', 'd', 'i', 'w', 'a', 's', 'e', 's', 'h', 't', 'a', 'b', 'l', 'i', 's', 'h', 'e', 'd', 'i', 'n', 't', 'h', 'e', 'y', 'e', 'a', 'r', '1', '9', '6', '0', 'T', 'o', 'd', 'a', 'y', 'i', 's', '0', '9', '0', '3', '2', '0', '1', '9']\n",
      "['Audi', 'was', 'eshtablished', 'in', 'the', 'year', '1960', 'Today', 'is', '09', '03', '2019']\n",
      "['09-03-2019']\n"
     ]
    }
   ],
   "source": [
    "import re\n",
    "\n",
    "example = 'Audi was eshtablished in the year 1960. Today is 09-03-2019.'\n",
    "\n",
    "# extracts each character\n",
    "result=re.findall('\\w',example)\n",
    "print(result)\n",
    "\n",
    "# extracts words\n",
    "result_2=re.findall('\\w+',example)\n",
    "print(result_2)\n",
    "\n",
    "#extract dates for theformat dd-mm-yyyy or mm-dd-yyyy\n",
    "result_3=re.findall('\\d+-\\d+-\\d{4}',example)\n",
    "print(result_3)"
   ]
  },
  {
   "cell_type": "markdown",
   "metadata": {},
   "source": [
    "## NLTK Regexp tokenizer\n",
    "- NLTK has an inbuilt tokenizer which we can use to extract all alphanumeric characters, whch is equivalent to `[a-zA-Z0-9_]` or `\\w `"
   ]
  },
  {
   "cell_type": "code",
   "execution_count": 5,
   "metadata": {},
   "outputs": [
    {
     "name": "stdout",
     "output_type": "stream",
     "text": [
      "RegexpTokenizer(pattern='\\\\w+', gaps=False, discard_empty=True, flags=<RegexFlag.UNICODE|DOTALL|MULTILINE: 56>)\n"
     ]
    }
   ],
   "source": [
    "from nltk.corpus import RegexpTokenizer as regextoken\n",
    "\n",
    "tokenizer = regextoken('\\w+')\n",
    "print(tokenizer)"
   ]
  },
  {
   "cell_type": "markdown",
   "metadata": {},
   "source": [
    "## Tokenizing"
   ]
  },
  {
   "cell_type": "code",
   "execution_count": 6,
   "metadata": {},
   "outputs": [],
   "source": [
    "tokens = tokenizer.tokenize(Audi[0])"
   ]
  },
  {
   "cell_type": "code",
   "execution_count": 7,
   "metadata": {},
   "outputs": [
    {
     "data": {
      "text/plain": [
       "['Audi',\n",
       " 'AG',\n",
       " 'is',\n",
       " 'a',\n",
       " 'German',\n",
       " 'automobile',\n",
       " 'manufacturer',\n",
       " 'that',\n",
       " 'designs',\n",
       " 'engineers',\n",
       " 'produces',\n",
       " 'markets',\n",
       " 'and',\n",
       " 'distributes',\n",
       " 'luxury',\n",
       " 'vehicles',\n",
       " 'Audi',\n",
       " 'is',\n",
       " 'a',\n",
       " 'member',\n",
       " 'of',\n",
       " 'the',\n",
       " 'Volkswagen',\n",
       " 'Group',\n",
       " 'and',\n",
       " 'has',\n",
       " 'its',\n",
       " 'roots',\n",
       " 'at',\n",
       " 'Ingolstadt',\n",
       " 'Bavaria',\n",
       " 'Germany',\n",
       " 'Audi',\n",
       " 'branded',\n",
       " 'vehicles',\n",
       " 'are',\n",
       " 'produced',\n",
       " 'in',\n",
       " 'nine',\n",
       " 'production',\n",
       " 'facilities',\n",
       " 'worldwide',\n",
       " 'The',\n",
       " 'origins',\n",
       " 'of',\n",
       " 'the',\n",
       " 'company',\n",
       " 'are',\n",
       " 'complex',\n",
       " 'going',\n",
       " 'back',\n",
       " 'to',\n",
       " 'the',\n",
       " 'early',\n",
       " '20th',\n",
       " 'century',\n",
       " 'and',\n",
       " 'the',\n",
       " 'initial',\n",
       " 'enterprises',\n",
       " 'Horch',\n",
       " 'and',\n",
       " 'the',\n",
       " 'Audiwerke',\n",
       " 'founded',\n",
       " 'by',\n",
       " 'engineer',\n",
       " 'August',\n",
       " 'Horch',\n",
       " 'and',\n",
       " 'two',\n",
       " 'other',\n",
       " 'manufacturers',\n",
       " 'DKW',\n",
       " 'and',\n",
       " 'Wanderer',\n",
       " 'leading',\n",
       " 'to',\n",
       " 'the',\n",
       " 'foundation',\n",
       " 'of',\n",
       " 'Auto',\n",
       " 'Union',\n",
       " 'in',\n",
       " '1932',\n",
       " 'The',\n",
       " 'modern',\n",
       " 'era',\n",
       " 'of',\n",
       " 'Audi',\n",
       " 'essentially',\n",
       " 'began',\n",
       " 'in',\n",
       " 'the',\n",
       " '1960s',\n",
       " 'when',\n",
       " 'Auto',\n",
       " 'Union',\n",
       " 'was',\n",
       " 'acquired',\n",
       " 'by',\n",
       " 'Volkswagen',\n",
       " 'from',\n",
       " 'Daimler',\n",
       " 'Benz',\n",
       " 'After',\n",
       " 'relaunching',\n",
       " 'the',\n",
       " 'Audi',\n",
       " 'brand',\n",
       " 'with',\n",
       " 'the',\n",
       " '1965',\n",
       " 'introduction',\n",
       " 'of',\n",
       " 'the',\n",
       " 'Audi',\n",
       " 'F103',\n",
       " 'series',\n",
       " 'Volkswagen',\n",
       " 'merged',\n",
       " 'Auto',\n",
       " 'Union',\n",
       " 'with',\n",
       " 'NSU',\n",
       " 'Motorenwerke',\n",
       " 'in',\n",
       " '1969',\n",
       " 'thus',\n",
       " 'creating',\n",
       " 'the',\n",
       " 'present',\n",
       " 'day',\n",
       " 'form',\n",
       " 'of',\n",
       " 'the',\n",
       " 'company',\n",
       " 'The',\n",
       " 'company',\n",
       " 'name',\n",
       " 'is',\n",
       " 'based',\n",
       " 'on',\n",
       " 'the',\n",
       " 'Latin',\n",
       " 'translation',\n",
       " 'of',\n",
       " 'the',\n",
       " 'surname',\n",
       " 'of',\n",
       " 'the',\n",
       " 'founder',\n",
       " 'August',\n",
       " 'Horch',\n",
       " 'Horch',\n",
       " 'meaning',\n",
       " 'listen',\n",
       " 'in',\n",
       " 'German',\n",
       " 'becomes',\n",
       " 'audi',\n",
       " 'in',\n",
       " 'Latin',\n",
       " 'The',\n",
       " 'four',\n",
       " 'rings',\n",
       " 'of',\n",
       " 'the',\n",
       " 'Audi',\n",
       " 'logo',\n",
       " 'each',\n",
       " 'represent',\n",
       " 'one',\n",
       " 'of',\n",
       " 'four',\n",
       " 'car',\n",
       " 'companies',\n",
       " 'that',\n",
       " 'banded',\n",
       " 'together',\n",
       " 'to',\n",
       " 'create',\n",
       " 'Audi',\n",
       " 's',\n",
       " 'predecessor',\n",
       " 'company',\n",
       " 'Auto',\n",
       " 'Union',\n",
       " 'Audi',\n",
       " 's',\n",
       " 'slogan',\n",
       " 'is',\n",
       " 'Vorsprung',\n",
       " 'durch',\n",
       " 'Technik',\n",
       " 'meaning',\n",
       " 'Being',\n",
       " 'Ahead',\n",
       " 'through',\n",
       " 'Technology',\n",
       " 'However',\n",
       " 'Audi',\n",
       " 'USA',\n",
       " 'had',\n",
       " 'used',\n",
       " 'the',\n",
       " 'slogan',\n",
       " 'Truth',\n",
       " 'in',\n",
       " 'Engineering',\n",
       " 'from',\n",
       " '2007',\n",
       " 'to',\n",
       " '2016',\n",
       " 'and',\n",
       " 'have',\n",
       " 'not',\n",
       " 'used',\n",
       " 'the',\n",
       " 'slogan',\n",
       " 'since',\n",
       " '2016']"
      ]
     },
     "execution_count": 7,
     "metadata": {},
     "output_type": "execute_result"
    }
   ],
   "source": [
    "tokens"
   ]
  },
  {
   "cell_type": "raw",
   "metadata": {},
   "source": [
    "We do not want our algorithms to treat company and Company differently, so for our analysis purposes, we convert the whole corpus into lower case, this is not a mandatory rule, some analysis might require preserving the orignal case."
   ]
  },
  {
   "cell_type": "markdown",
   "metadata": {},
   "source": [
    "## Converting to lower case"
   ]
  },
  {
   "cell_type": "code",
   "execution_count": 8,
   "metadata": {},
   "outputs": [],
   "source": [
    "tokens = [token.lower() for token in tokens]"
   ]
  },
  {
   "cell_type": "markdown",
   "metadata": {},
   "source": [
    "## Plotting the frequency bar chart"
   ]
  },
  {
   "cell_type": "raw",
   "metadata": {},
   "source": [
    "Reusing the code from Tokenizer-nltk"
   ]
  },
  {
   "cell_type": "code",
   "execution_count": 9,
   "metadata": {},
   "outputs": [
    {
     "data": {
      "text/html": [
       "<script type=\"text/javascript\">window.PlotlyConfig = {MathJaxConfig: 'local'};</script><script type=\"text/javascript\">if (window.MathJax) {MathJax.Hub.Config({SVG: {font: \"STIX-Web\"}});}</script><script>requirejs.config({paths: { 'plotly': ['https://cdn.plot.ly/plotly-latest.min']},});if(!window._Plotly) {require(['plotly'],function(plotly) {window._Plotly=plotly;});}</script>"
      ],
      "text/vnd.plotly.v1+html": [
       "<script type=\"text/javascript\">window.PlotlyConfig = {MathJaxConfig: 'local'};</script><script type=\"text/javascript\">if (window.MathJax) {MathJax.Hub.Config({SVG: {font: \"STIX-Web\"}});}</script><script>requirejs.config({paths: { 'plotly': ['https://cdn.plot.ly/plotly-latest.min']},});if(!window._Plotly) {require(['plotly'],function(plotly) {window._Plotly=plotly;});}</script>"
      ]
     },
     "metadata": {},
     "output_type": "display_data"
    },
    {
     "data": {
      "application/vnd.plotly.v1+json": {
       "config": {
        "linkText": "Export to plot.ly",
        "plotlyServerURL": "https://plot.ly",
        "showLink": false
       },
       "data": [
        {
         "type": "bar",
         "uid": "35f78068-c280-4c97-b622-62ca3c773880",
         "x": [
          "the",
          "audi",
          "of",
          "and",
          "in",
          "is",
          "company",
          "to",
          "horch",
          "auto",
          "union",
          "volkswagen",
          "slogan",
          "a",
          "german",
          "that",
          "vehicles",
          "are",
          "by",
          "august"
         ],
         "y": [
          22,
          11,
          10,
          7,
          7,
          4,
          4,
          4,
          4,
          4,
          4,
          3,
          3,
          2,
          2,
          2,
          2,
          2,
          2,
          2
         ]
        }
       ],
       "layout": {}
      },
      "text/html": [
       "<div id=\"0a538509-a6a9-46c5-846c-6aded2eff99b\" style=\"height: 525px; width: 100%;\" class=\"plotly-graph-div\"></div><script type=\"text/javascript\">require([\"plotly\"], function(Plotly) { window.PLOTLYENV=window.PLOTLYENV || {};window.PLOTLYENV.BASE_URL=\"https://plot.ly\";Plotly.newPlot(\"0a538509-a6a9-46c5-846c-6aded2eff99b\", [{\"x\": [\"the\", \"audi\", \"of\", \"and\", \"in\", \"is\", \"company\", \"to\", \"horch\", \"auto\", \"union\", \"volkswagen\", \"slogan\", \"a\", \"german\", \"that\", \"vehicles\", \"are\", \"by\", \"august\"], \"y\": [22, 11, 10, 7, 7, 4, 4, 4, 4, 4, 4, 3, 3, 2, 2, 2, 2, 2, 2, 2], \"type\": \"bar\", \"uid\": \"84fa212e-a213-4d3a-a321-61f5de0a627a\"}], {}, {\"showLink\": false, \"linkText\": \"Export to plot.ly\", \"plotlyServerURL\": \"https://plot.ly\"})});</script><script type=\"text/javascript\">window.addEventListener(\"resize\", function(){window._Plotly.Plots.resize(document.getElementById(\"0a538509-a6a9-46c5-846c-6aded2eff99b\"));});</script>"
      ],
      "text/vnd.plotly.v1+html": [
       "<div id=\"0a538509-a6a9-46c5-846c-6aded2eff99b\" style=\"height: 525px; width: 100%;\" class=\"plotly-graph-div\"></div><script type=\"text/javascript\">require([\"plotly\"], function(Plotly) { window.PLOTLYENV=window.PLOTLYENV || {};window.PLOTLYENV.BASE_URL=\"https://plot.ly\";Plotly.newPlot(\"0a538509-a6a9-46c5-846c-6aded2eff99b\", [{\"x\": [\"the\", \"audi\", \"of\", \"and\", \"in\", \"is\", \"company\", \"to\", \"horch\", \"auto\", \"union\", \"volkswagen\", \"slogan\", \"a\", \"german\", \"that\", \"vehicles\", \"are\", \"by\", \"august\"], \"y\": [22, 11, 10, 7, 7, 4, 4, 4, 4, 4, 4, 3, 3, 2, 2, 2, 2, 2, 2, 2], \"type\": \"bar\", \"uid\": \"84fa212e-a213-4d3a-a321-61f5de0a627a\"}], {}, {\"showLink\": false, \"linkText\": \"Export to plot.ly\", \"plotlyServerURL\": \"https://plot.ly\"})});</script><script type=\"text/javascript\">window.addEventListener(\"resize\", function(){window._Plotly.Plots.resize(document.getElementById(\"0a538509-a6a9-46c5-846c-6aded2eff99b\"));});</script>"
      ]
     },
     "metadata": {},
     "output_type": "display_data"
    }
   ],
   "source": [
    "from nltk.probability import FreqDist\n",
    "import plotly.offline as pyoff\n",
    "from plotly.offline import iplot, init_notebook_mode\n",
    "import plotly.graph_objs as go\n",
    "init_notebook_mode(connected= True)\n",
    "\n",
    "freq_dist = FreqDist(tokens)\n",
    "top_20 = freq_dist.most_common(20)\n",
    "\n",
    "x  = [i[0] for i in top_20]\n",
    "y  = [i[1] for i in top_20]\n",
    "data = [go.Bar(\n",
    "            x=x,\n",
    "            y=y)]\n",
    "iplot(data)"
   ]
  },
  {
   "cell_type": "markdown",
   "metadata": {},
   "source": [
    "We see that the words like `a`, `in`, `the` , etc are in the top 20 list, this is because these words are used frequently in the english language, this sentence itself has a lot of these words, we call them `stopwords` in text processing world!\n",
    "These `stopwords` do not generally provide information. We can remove the stop words by using inbuilt nltk functions."
   ]
  },
  {
   "cell_type": "markdown",
   "metadata": {},
   "source": [
    "## Removing stopwords"
   ]
  },
  {
   "cell_type": "markdown",
   "metadata": {},
   "source": [
    "If we are using text processing for information retrieval, we would not want these words taking up space in our database, or taking up valuable processing time. For this, we can remove them easily, by storing a list of words that you consider to be stop words. NLTK(Natural Language Toolkit) in python has a list of stopwords stored in 16 different languages. You can find them in the nltk_data directory.To check the list of stopwords you can type the following commands in the python shell.\n",
    "\n",
    "Note: You can even modify the list by adding words of your choice in the english .txt. file in the stopwords directory."
   ]
  },
  {
   "cell_type": "code",
   "execution_count": 10,
   "metadata": {},
   "outputs": [
    {
     "name": "stdout",
     "output_type": "stream",
     "text": [
      "['i', 'me', 'my', 'myself', 'we', 'our', 'ours', 'ourselves', 'you', \"you're\", \"you've\", \"you'll\", \"you'd\", 'your', 'yours', 'yourself', 'yourselves', 'he', 'him', 'his', 'himself', 'she', \"she's\", 'her', 'hers', 'herself', 'it', \"it's\", 'its', 'itself', 'they', 'them', 'their', 'theirs', 'themselves', 'what', 'which', 'who', 'whom', 'this', 'that', \"that'll\", 'these', 'those', 'am', 'is', 'are', 'was', 'were', 'be', 'been', 'being', 'have', 'has', 'had', 'having', 'do', 'does', 'did', 'doing', 'a', 'an', 'the', 'and', 'but', 'if', 'or', 'because', 'as', 'until', 'while', 'of', 'at', 'by', 'for', 'with', 'about', 'against', 'between', 'into', 'through', 'during', 'before', 'after', 'above', 'below', 'to', 'from', 'up', 'down', 'in', 'out', 'on', 'off', 'over', 'under', 'again', 'further', 'then', 'once', 'here', 'there', 'when', 'where', 'why', 'how', 'all', 'any', 'both', 'each', 'few', 'more', 'most', 'other', 'some', 'such', 'no', 'nor', 'not', 'only', 'own', 'same', 'so', 'than', 'too', 'very', 's', 't', 'can', 'will', 'just', 'don', \"don't\", 'should', \"should've\", 'now', 'd', 'll', 'm', 'o', 're', 've', 'y', 'ain', 'aren', \"aren't\", 'couldn', \"couldn't\", 'didn', \"didn't\", 'doesn', \"doesn't\", 'hadn', \"hadn't\", 'hasn', \"hasn't\", 'haven', \"haven't\", 'isn', \"isn't\", 'ma', 'mightn', \"mightn't\", 'mustn', \"mustn't\", 'needn', \"needn't\", 'shan', \"shan't\", 'shouldn', \"shouldn't\", 'wasn', \"wasn't\", 'weren', \"weren't\", 'won', \"won't\", 'wouldn', \"wouldn't\"]\n"
     ]
    }
   ],
   "source": [
    "from nltk.corpus import stopwords\n",
    "stopwords = stopwords.words('english')\n",
    "print(stopwords)"
   ]
  },
  {
   "cell_type": "raw",
   "metadata": {},
   "source": [
    "One observation we can make from the above list is that , all the words are in lower case, we will also convert our tokens into lower case while comparing."
   ]
  },
  {
   "cell_type": "code",
   "execution_count": 11,
   "metadata": {},
   "outputs": [],
   "source": [
    "tokens = [token for token in tokens if token.lower() not in stopwords]"
   ]
  },
  {
   "cell_type": "raw",
   "metadata": {},
   "source": [
    "At the risk of repeating myself, I am reusing the code again (We will define funcitons in the future)"
   ]
  },
  {
   "cell_type": "code",
   "execution_count": 12,
   "metadata": {},
   "outputs": [
    {
     "data": {
      "application/vnd.plotly.v1+json": {
       "config": {
        "linkText": "Export to plot.ly",
        "plotlyServerURL": "https://plot.ly",
        "showLink": false
       },
       "data": [
        {
         "type": "bar",
         "uid": "a96fcc5c-f3e6-42f3-9228-f986c166e3a5",
         "x": [
          "audi",
          "company",
          "horch",
          "auto",
          "union",
          "volkswagen",
          "slogan",
          "german",
          "vehicles",
          "august",
          "latin",
          "meaning",
          "four",
          "used",
          "2016",
          "ag",
          "automobile",
          "manufacturer",
          "designs",
          "engineers"
         ],
         "y": [
          11,
          4,
          4,
          4,
          4,
          3,
          3,
          2,
          2,
          2,
          2,
          2,
          2,
          2,
          2,
          1,
          1,
          1,
          1,
          1
         ]
        }
       ],
       "layout": {
        "title": {
         "text": "Frequency distribution"
        }
       }
      },
      "text/html": [
       "<div id=\"780510d0-b268-4885-b375-fdb8bad8d260\" style=\"height: 525px; width: 100%;\" class=\"plotly-graph-div\"></div><script type=\"text/javascript\">require([\"plotly\"], function(Plotly) { window.PLOTLYENV=window.PLOTLYENV || {};window.PLOTLYENV.BASE_URL=\"https://plot.ly\";Plotly.newPlot(\"780510d0-b268-4885-b375-fdb8bad8d260\", [{\"x\": [\"audi\", \"company\", \"horch\", \"auto\", \"union\", \"volkswagen\", \"slogan\", \"german\", \"vehicles\", \"august\", \"latin\", \"meaning\", \"four\", \"used\", \"2016\", \"ag\", \"automobile\", \"manufacturer\", \"designs\", \"engineers\"], \"y\": [11, 4, 4, 4, 4, 3, 3, 2, 2, 2, 2, 2, 2, 2, 2, 1, 1, 1, 1, 1], \"type\": \"bar\", \"uid\": \"a96fcc5c-f3e6-42f3-9228-f986c166e3a5\"}], {\"title\": {\"text\": \"Frequency distribution\"}}, {\"showLink\": false, \"linkText\": \"Export to plot.ly\", \"plotlyServerURL\": \"https://plot.ly\"})});</script><script type=\"text/javascript\">window.addEventListener(\"resize\", function(){window._Plotly.Plots.resize(document.getElementById(\"780510d0-b268-4885-b375-fdb8bad8d260\"));});</script>"
      ],
      "text/vnd.plotly.v1+html": [
       "<div id=\"780510d0-b268-4885-b375-fdb8bad8d260\" style=\"height: 525px; width: 100%;\" class=\"plotly-graph-div\"></div><script type=\"text/javascript\">require([\"plotly\"], function(Plotly) { window.PLOTLYENV=window.PLOTLYENV || {};window.PLOTLYENV.BASE_URL=\"https://plot.ly\";Plotly.newPlot(\"780510d0-b268-4885-b375-fdb8bad8d260\", [{\"x\": [\"audi\", \"company\", \"horch\", \"auto\", \"union\", \"volkswagen\", \"slogan\", \"german\", \"vehicles\", \"august\", \"latin\", \"meaning\", \"four\", \"used\", \"2016\", \"ag\", \"automobile\", \"manufacturer\", \"designs\", \"engineers\"], \"y\": [11, 4, 4, 4, 4, 3, 3, 2, 2, 2, 2, 2, 2, 2, 2, 1, 1, 1, 1, 1], \"type\": \"bar\", \"uid\": \"a96fcc5c-f3e6-42f3-9228-f986c166e3a5\"}], {\"title\": {\"text\": \"Frequency distribution\"}}, {\"showLink\": false, \"linkText\": \"Export to plot.ly\", \"plotlyServerURL\": \"https://plot.ly\"})});</script><script type=\"text/javascript\">window.addEventListener(\"resize\", function(){window._Plotly.Plots.resize(document.getElementById(\"780510d0-b268-4885-b375-fdb8bad8d260\"));});</script>"
      ]
     },
     "metadata": {},
     "output_type": "display_data"
    }
   ],
   "source": [
    "freq_dist = FreqDist(tokens)\n",
    "top_20 = freq_dist.most_common(20)\n",
    "\n",
    "x  = [i[0] for i in top_20]\n",
    "y  = [i[1] for i in top_20]\n",
    "data = [go.Bar(\n",
    "            x=x,\n",
    "            y=y)]\n",
    "layout = go.Layout(\n",
    "    title='Frequency distribution',\n",
    ")\n",
    "fig = go.Figure(data=data, layout=layout)\n",
    "\n",
    "iplot(fig)"
   ]
  }
 ],
 "metadata": {
  "kernelspec": {
   "display_name": "Python 3",
   "language": "python",
   "name": "python3"
  },
  "language_info": {
   "codemirror_mode": {
    "name": "ipython",
    "version": 3
   },
   "file_extension": ".py",
   "mimetype": "text/x-python",
   "name": "python",
   "nbconvert_exporter": "python",
   "pygments_lexer": "ipython3",
   "version": "3.6.8"
  },
  "toc": {
   "base_numbering": 1,
   "nav_menu": {},
   "number_sections": true,
   "sideBar": true,
   "skip_h1_title": true,
   "title_cell": "Table of Contents",
   "title_sidebar": "Contents",
   "toc_cell": true,
   "toc_position": {},
   "toc_section_display": true,
   "toc_window_display": true
  }
 },
 "nbformat": 4,
 "nbformat_minor": 2
}
