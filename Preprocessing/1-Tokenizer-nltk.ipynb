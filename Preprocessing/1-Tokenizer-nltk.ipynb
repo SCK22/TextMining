{
 "cells": [
  {
   "cell_type": "markdown",
   "metadata": {},
   "source": [
    "___First step in text prepocessing is to split the long documents into sentences and the sentences further into words___"
   ]
  },
  {
   "cell_type": "markdown",
   "metadata": {
    "toc": true
   },
   "source": [
    "<h1>Table of Contents<span class=\"tocSkip\"></span></h1>\n",
    "<div class=\"toc\"><ul class=\"toc-item\"><li><span><a href=\"#Tokenizer-from-NLTK\" data-toc-modified-id=\"Tokenizer-from-NLTK-1\"><span class=\"toc-item-num\">1&nbsp;&nbsp;</span>Tokenizer from NLTK</a></span><ul class=\"toc-item\"><li><span><a href=\"#Corpus\" data-toc-modified-id=\"Corpus-1.1\"><span class=\"toc-item-num\">1.1&nbsp;&nbsp;</span>Corpus</a></span></li><li><span><a href=\"#Sentence-tokenizer\" data-toc-modified-id=\"Sentence-tokenizer-1.2\"><span class=\"toc-item-num\">1.2&nbsp;&nbsp;</span>Sentence tokenizer</a></span></li><li><span><a href=\"#Word-tokenizer\" data-toc-modified-id=\"Word-tokenizer-1.3\"><span class=\"toc-item-num\">1.3&nbsp;&nbsp;</span>Word tokenizer</a></span></li><li><span><a href=\"#Extract-all-the-words-in-the-corpus\" data-toc-modified-id=\"Extract-all-the-words-in-the-corpus-1.4\"><span class=\"toc-item-num\">1.4&nbsp;&nbsp;</span>Extract all the words in the corpus</a></span><ul class=\"toc-item\"><li><span><a href=\"#Check-the-frequency-distribution-of-the-tokens\" data-toc-modified-id=\"Check-the-frequency-distribution-of-the-tokens-1.4.1\"><span class=\"toc-item-num\">1.4.1&nbsp;&nbsp;</span>Check the frequency distribution of the tokens</a></span></li></ul></li></ul></li></ul></div>"
   ]
  },
  {
   "cell_type": "markdown",
   "metadata": {},
   "source": [
    "# Tokenizer from NLTK\n",
    "\n",
    "__Import Tokenizers from the nltk package__"
   ]
  },
  {
   "cell_type": "code",
   "execution_count": 1,
   "metadata": {},
   "outputs": [],
   "source": [
    "from nltk.tokenize import word_tokenize, sent_tokenize"
   ]
  },
  {
   "cell_type": "markdown",
   "metadata": {},
   "source": [
    "## Corpus"
   ]
  },
  {
   "cell_type": "code",
   "execution_count": 2,
   "metadata": {},
   "outputs": [],
   "source": [
    "with open('data/Audi.txt') as f:\n",
    "    Audi = f.readlines()\n",
    "    "
   ]
  },
  {
   "cell_type": "code",
   "execution_count": 3,
   "metadata": {},
   "outputs": [
    {
     "data": {
      "text/plain": [
       "['Audi AG is a German automobile manufacturer that designs, engineers, produces, markets and distributes luxury vehicles. Audi is a member of the Volkswagen Group and has its roots at Ingolstadt, Bavaria, Germany. Audi-branded vehicles are produced in nine production facilities worldwide. The origins of the company are complex, going back to the early 20th century and the initial enterprises (Horch and the Audiwerke) founded by engineer August Horch; and two other manufacturers (DKW and Wanderer), leading to the foundation of Auto Union in 1932. The modern era of Audi essentially began in the 1960s when Auto Union was acquired by Volkswagen from Daimler-Benz. After relaunching the Audi brand with the 1965 introduction of the Audi F103 series, Volkswagen merged Auto Union with NSU Motorenwerke in 1969, thus creating the present day form of the company. The company name is based on the Latin translation of the surname of the founder, August Horch. \"Horch\", meaning \"listen\" in German, becomes \"audi\" in Latin. The four rings of the Audi logo each represent one of four car companies that banded together to create Audi\\'s predecessor company, Auto Union. Audi\\'s slogan is Vorsprung durch Technik, meaning \"Being Ahead through Technology\". However, Audi USA had used the slogan \"Truth in Engineering\" from 2007 to 2016, and have not used the slogan since 2016.\\n']"
      ]
     },
     "execution_count": 3,
     "metadata": {},
     "output_type": "execute_result"
    }
   ],
   "source": [
    "Audi"
   ]
  },
  {
   "cell_type": "markdown",
   "metadata": {},
   "source": [
    "## Sentence tokenizer"
   ]
  },
  {
   "cell_type": "code",
   "execution_count": 4,
   "metadata": {},
   "outputs": [],
   "source": [
    "sentences = sent_tokenize(Audi[0])"
   ]
  },
  {
   "cell_type": "code",
   "execution_count": 5,
   "metadata": {},
   "outputs": [
    {
     "data": {
      "text/plain": [
       "11"
      ]
     },
     "execution_count": 5,
     "metadata": {},
     "output_type": "execute_result"
    }
   ],
   "source": [
    "len(sentences)"
   ]
  },
  {
   "cell_type": "code",
   "execution_count": 6,
   "metadata": {},
   "outputs": [
    {
     "data": {
      "text/plain": [
       "['Audi AG is a German automobile manufacturer that designs, engineers, produces, markets and distributes luxury vehicles.',\n",
       " 'Audi is a member of the Volkswagen Group and has its roots at Ingolstadt, Bavaria, Germany.',\n",
       " 'Audi-branded vehicles are produced in nine production facilities worldwide.',\n",
       " 'The origins of the company are complex, going back to the early 20th century and the initial enterprises (Horch and the Audiwerke) founded by engineer August Horch; and two other manufacturers (DKW and Wanderer), leading to the foundation of Auto Union in 1932.',\n",
       " 'The modern era of Audi essentially began in the 1960s when Auto Union was acquired by Volkswagen from Daimler-Benz.',\n",
       " 'After relaunching the Audi brand with the 1965 introduction of the Audi F103 series, Volkswagen merged Auto Union with NSU Motorenwerke in 1969, thus creating the present day form of the company.',\n",
       " 'The company name is based on the Latin translation of the surname of the founder, August Horch.',\n",
       " '\"Horch\", meaning \"listen\" in German, becomes \"audi\" in Latin.',\n",
       " \"The four rings of the Audi logo each represent one of four car companies that banded together to create Audi's predecessor company, Auto Union.\",\n",
       " 'Audi\\'s slogan is Vorsprung durch Technik, meaning \"Being Ahead through Technology\".',\n",
       " 'However, Audi USA had used the slogan \"Truth in Engineering\" from 2007 to 2016, and have not used the slogan since 2016.']"
      ]
     },
     "execution_count": 6,
     "metadata": {},
     "output_type": "execute_result"
    }
   ],
   "source": [
    "sentences"
   ]
  },
  {
   "cell_type": "markdown",
   "metadata": {},
   "source": [
    "## Word tokenizer"
   ]
  },
  {
   "cell_type": "markdown",
   "metadata": {},
   "source": [
    "__Tokenize the first sentence from the above sentences.__"
   ]
  },
  {
   "cell_type": "code",
   "execution_count": 7,
   "metadata": {},
   "outputs": [],
   "source": [
    "words = word_tokenize(sentences[0])"
   ]
  },
  {
   "cell_type": "code",
   "execution_count": 8,
   "metadata": {},
   "outputs": [
    {
     "data": {
      "text/plain": [
       "20"
      ]
     },
     "execution_count": 8,
     "metadata": {},
     "output_type": "execute_result"
    }
   ],
   "source": [
    "len(words)"
   ]
  },
  {
   "cell_type": "code",
   "execution_count": 9,
   "metadata": {},
   "outputs": [
    {
     "data": {
      "text/plain": [
       "['Audi',\n",
       " 'AG',\n",
       " 'is',\n",
       " 'a',\n",
       " 'German',\n",
       " 'automobile',\n",
       " 'manufacturer',\n",
       " 'that',\n",
       " 'designs',\n",
       " ',',\n",
       " 'engineers',\n",
       " ',',\n",
       " 'produces',\n",
       " ',',\n",
       " 'markets',\n",
       " 'and',\n",
       " 'distributes',\n",
       " 'luxury',\n",
       " 'vehicles',\n",
       " '.']"
      ]
     },
     "execution_count": 9,
     "metadata": {},
     "output_type": "execute_result"
    }
   ],
   "source": [
    "words"
   ]
  },
  {
   "cell_type": "markdown",
   "metadata": {},
   "source": [
    "## Extract all the words in the corpus"
   ]
  },
  {
   "cell_type": "markdown",
   "metadata": {},
   "source": [
    "A simple but dirty way to tokenize the whole corpus we have:"
   ]
  },
  {
   "cell_type": "code",
   "execution_count": 10,
   "metadata": {},
   "outputs": [],
   "source": [
    "tokens = word_tokenize(Audi[0])"
   ]
  },
  {
   "cell_type": "markdown",
   "metadata": {},
   "source": [
    "__Number of tokens in the whole corpus__"
   ]
  },
  {
   "cell_type": "code",
   "execution_count": 11,
   "metadata": {},
   "outputs": [
    {
     "data": {
      "text/plain": [
       "262"
      ]
     },
     "execution_count": 11,
     "metadata": {},
     "output_type": "execute_result"
    }
   ],
   "source": [
    "len(tokens)"
   ]
  },
  {
   "cell_type": "markdown",
   "metadata": {},
   "source": [
    "### Check the frequency distribution of the tokens"
   ]
  },
  {
   "cell_type": "markdown",
   "metadata": {},
   "source": [
    "__FreqDist functions takes the tokens and calculates the frequencies__"
   ]
  },
  {
   "cell_type": "code",
   "execution_count": 12,
   "metadata": {},
   "outputs": [],
   "source": [
    "from nltk.probability import FreqDist"
   ]
  },
  {
   "cell_type": "code",
   "execution_count": 13,
   "metadata": {},
   "outputs": [],
   "source": [
    "freq_dist = FreqDist(tokens)\n",
    "top_20 = freq_dist.most_common(20)"
   ]
  },
  {
   "cell_type": "markdown",
   "metadata": {},
   "source": [
    "Plotting libraries"
   ]
  },
  {
   "cell_type": "code",
   "execution_count": 14,
   "metadata": {},
   "outputs": [
    {
     "data": {
      "text/html": [
       "<script type=\"text/javascript\">window.PlotlyConfig = {MathJaxConfig: 'local'};</script><script type=\"text/javascript\">if (window.MathJax) {MathJax.Hub.Config({SVG: {font: \"STIX-Web\"}});}</script><script>requirejs.config({paths: { 'plotly': ['https://cdn.plot.ly/plotly-latest.min']},});if(!window._Plotly) {require(['plotly'],function(plotly) {window._Plotly=plotly;});}</script>"
      ],
      "text/vnd.plotly.v1+html": [
       "<script type=\"text/javascript\">window.PlotlyConfig = {MathJaxConfig: 'local'};</script><script type=\"text/javascript\">if (window.MathJax) {MathJax.Hub.Config({SVG: {font: \"STIX-Web\"}});}</script><script>requirejs.config({paths: { 'plotly': ['https://cdn.plot.ly/plotly-latest.min']},});if(!window._Plotly) {require(['plotly'],function(plotly) {window._Plotly=plotly;});}</script>"
      ]
     },
     "metadata": {},
     "output_type": "display_data"
    }
   ],
   "source": [
    "import plotly.offline as pyoff\n",
    "from plotly.offline import iplot, init_notebook_mode\n",
    "import plotly.graph_objs as go\n",
    "init_notebook_mode(connected= True)"
   ]
  },
  {
   "cell_type": "code",
   "execution_count": 15,
   "metadata": {},
   "outputs": [],
   "source": [
    "x  = [i[0] for i in top_20]\n",
    "y  = [i[1] for i in top_20]"
   ]
  },
  {
   "cell_type": "code",
   "execution_count": 16,
   "metadata": {},
   "outputs": [
    {
     "data": {
      "application/vnd.plotly.v1+json": {
       "config": {
        "linkText": "Export to plot.ly",
        "plotlyServerURL": "https://plot.ly",
        "showLink": false
       },
       "data": [
        {
         "type": "bar",
         "uid": "d54022bc-8a56-44b3-a6ca-e55c7583cf25",
         "x": [
          "the",
          ",",
          ".",
          "of",
          "Audi",
          "and",
          "in",
          "``",
          "''",
          "is",
          "The",
          "company",
          "to",
          "Horch",
          "Auto",
          "Union",
          "Volkswagen",
          "slogan",
          "a",
          "German"
         ],
         "y": [
          18,
          16,
          11,
          10,
          9,
          7,
          7,
          5,
          5,
          4,
          4,
          4,
          4,
          4,
          4,
          4,
          3,
          3,
          2,
          2
         ]
        }
       ],
       "layout": {}
      },
      "text/html": [
       "<div id=\"e5a1257b-e384-45c8-b68b-2f8e8f776bb0\" style=\"height: 525px; width: 100%;\" class=\"plotly-graph-div\"></div><script type=\"text/javascript\">require([\"plotly\"], function(Plotly) { window.PLOTLYENV=window.PLOTLYENV || {};window.PLOTLYENV.BASE_URL=\"https://plot.ly\";Plotly.newPlot(\"e5a1257b-e384-45c8-b68b-2f8e8f776bb0\", [{\"x\": [\"the\", \",\", \".\", \"of\", \"Audi\", \"and\", \"in\", \"``\", \"''\", \"is\", \"The\", \"company\", \"to\", \"Horch\", \"Auto\", \"Union\", \"Volkswagen\", \"slogan\", \"a\", \"German\"], \"y\": [18, 16, 11, 10, 9, 7, 7, 5, 5, 4, 4, 4, 4, 4, 4, 4, 3, 3, 2, 2], \"type\": \"bar\", \"uid\": \"a0f2859e-cc5d-4bcf-81e1-1ddfbbf4e1df\"}], {}, {\"showLink\": false, \"linkText\": \"Export to plot.ly\", \"plotlyServerURL\": \"https://plot.ly\"})});</script><script type=\"text/javascript\">window.addEventListener(\"resize\", function(){window._Plotly.Plots.resize(document.getElementById(\"e5a1257b-e384-45c8-b68b-2f8e8f776bb0\"));});</script>"
      ],
      "text/vnd.plotly.v1+html": [
       "<div id=\"e5a1257b-e384-45c8-b68b-2f8e8f776bb0\" style=\"height: 525px; width: 100%;\" class=\"plotly-graph-div\"></div><script type=\"text/javascript\">require([\"plotly\"], function(Plotly) { window.PLOTLYENV=window.PLOTLYENV || {};window.PLOTLYENV.BASE_URL=\"https://plot.ly\";Plotly.newPlot(\"e5a1257b-e384-45c8-b68b-2f8e8f776bb0\", [{\"x\": [\"the\", \",\", \".\", \"of\", \"Audi\", \"and\", \"in\", \"``\", \"''\", \"is\", \"The\", \"company\", \"to\", \"Horch\", \"Auto\", \"Union\", \"Volkswagen\", \"slogan\", \"a\", \"German\"], \"y\": [18, 16, 11, 10, 9, 7, 7, 5, 5, 4, 4, 4, 4, 4, 4, 4, 3, 3, 2, 2], \"type\": \"bar\", \"uid\": \"a0f2859e-cc5d-4bcf-81e1-1ddfbbf4e1df\"}], {}, {\"showLink\": false, \"linkText\": \"Export to plot.ly\", \"plotlyServerURL\": \"https://plot.ly\"})});</script><script type=\"text/javascript\">window.addEventListener(\"resize\", function(){window._Plotly.Plots.resize(document.getElementById(\"e5a1257b-e384-45c8-b68b-2f8e8f776bb0\"));});</script>"
      ]
     },
     "metadata": {},
     "output_type": "display_data"
    }
   ],
   "source": [
    "data = [go.Bar(\n",
    "            x=x,\n",
    "            y=y)]\n",
    "iplot(data)\n",
    "layout = go.Layout(\n",
    "    title='Frequency distribution',\n",
    ")\n",
    "fig = go.Figure(data=data, layout=layout)\n",
    "\n",
    "iplot(fig)"
   ]
  },
  {
   "cell_type": "markdown",
   "metadata": {},
   "source": [
    "We see that the common words are punctuation marks, this does not add value to our analysis, in the next step, we remove the punctuations and check the word frequencies.\n",
    "For that we will use _regular expressions_ in python."
   ]
  },
  {
   "cell_type": "raw",
   "metadata": {},
   "source": [
    "- End -"
   ]
  }
 ],
 "metadata": {
  "kernelspec": {
   "display_name": "Python 3",
   "language": "python",
   "name": "python3"
  },
  "language_info": {
   "codemirror_mode": {
    "name": "ipython",
    "version": 3
   },
   "file_extension": ".py",
   "mimetype": "text/x-python",
   "name": "python",
   "nbconvert_exporter": "python",
   "pygments_lexer": "ipython3",
   "version": "3.6.8"
  },
  "toc": {
   "base_numbering": 1,
   "nav_menu": {},
   "number_sections": true,
   "sideBar": true,
   "skip_h1_title": false,
   "title_cell": "Table of Contents",
   "title_sidebar": "Contents",
   "toc_cell": true,
   "toc_position": {},
   "toc_section_display": true,
   "toc_window_display": true
  }
 },
 "nbformat": 4,
 "nbformat_minor": 2
}
